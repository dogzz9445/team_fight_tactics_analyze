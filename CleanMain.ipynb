{
 "cells": [
  {
   "cell_type": "code",
   "execution_count": 3,
   "id": "925e52a1",
   "metadata": {},
   "outputs": [],
   "source": [
    "from datetime import datetime, timedelta\n",
    "\n",
    "from src.Reader import Reader\n",
    "from "
   ]
  },
  {
   "cell_type": "code",
   "execution_count": 2,
   "id": "a31df997",
   "metadata": {},
   "outputs": [],
   "source": [
    "%reload_ext autoreload\n",
    "%autoreload 2"
   ]
  },
  {
   "cell_type": "markdown",
   "id": "73c56ac2",
   "metadata": {},
   "source": [
    "# Main Routine"
   ]
  },
  {
   "cell_type": "markdown",
   "id": "13bb7da2",
   "metadata": {},
   "source": [
    "1. Read data\n",
    "2. Cluster\n",
    "3. Estimate champions and tratis of deck\n",
    "4. Estimate win rate\n",
    "5. TODO: Item rate of deck"
   ]
  },
  {
   "cell_type": "code",
   "execution_count": 105,
   "id": "7180439c",
   "metadata": {},
   "outputs": [],
   "source": [
    "start_date = datetime(2021, 6, 5, 0, 0, 0)\n",
    "end_date = datetime(2021, 6, 12, 0, 0, 0)"
   ]
  },
  {
   "cell_type": "code",
   "execution_count": 85,
   "id": "53674d06",
   "metadata": {},
   "outputs": [],
   "source": [
    "reader = Reader()"
   ]
  },
  {
   "cell_type": "code",
   "execution_count": 106,
   "id": "7a5aa7eb",
   "metadata": {},
   "outputs": [],
   "source": [
    "df_match_info, df_read, df_for_cluster = reader.read_data(start_date, end_date)"
   ]
  },
  {
   "cell_type": "code",
   "execution_count": 24,
   "id": "3870a60d",
   "metadata": {},
   "outputs": [],
   "source": [
    "assert df_match_info.columns.tolist() == ['id', 'match_id', 'setnumber', 'matched_at', 'created_at', 'gametype_id']\n",
    "assert len(df_read.columns) == 184\n",
    "assert len(df_for_cluster.columns) == 170"
   ]
  },
  {
   "cell_type": "markdown",
   "id": "59ba4e89",
   "metadata": {},
   "source": [
    "# 2. Cluster"
   ]
  },
  {
   "cell_type": "code",
   "execution_count": 109,
   "id": "46b1ada6",
   "metadata": {},
   "outputs": [],
   "source": [
    "import pandas as pd\n",
    "import numpy as np\n",
    "\n",
    "from sklearn.cluster import DBSCAN, MeanShift, estimate_bandwidth\n",
    "from sklearn import metrics\n",
    "from sklearn.datasets import make_blobs\n",
    "from sklearn.preprocessing import StandardScaler, MinMaxScaler"
   ]
  },
  {
   "cell_type": "markdown",
   "id": "e67d36dd",
   "metadata": {},
   "source": [
    "1. Scaler : MinMaxScaler\n",
    "2. Cluster: Mean Shift"
   ]
  },
  {
   "cell_type": "code",
   "execution_count": null,
   "id": "a0cec185",
   "metadata": {},
   "outputs": [],
   "source": [
    "df_cluster = df_for_cluster.copy()\n",
    "df_cluster = MinMaxScaler().fit_transform(df_cluster)\n",
    "model = MeanShift(bandwidth=estimate_bandwidth(df_cluster, quantile=0.0435), n_jobs=4, min_bin_freq=4).fit(df_cluster)"
   ]
  },
  {
   "cell_type": "code",
   "execution_count": null,
   "id": "464b54c8",
   "metadata": {},
   "outputs": [],
   "source": [
    "model.labels_"
   ]
  },
  {
   "cell_type": "code",
   "execution_count": null,
   "id": "d6abd30a",
   "metadata": {},
   "outputs": [],
   "source": [
    "set(model.labels_)"
   ]
  },
  {
   "cell_type": "code",
   "execution_count": null,
   "id": "441a0dbd",
   "metadata": {},
   "outputs": [],
   "source": [
    "labels = model.labels_\n",
    "n_clusters = len(set(labels)) - (1 if -1 in labels else 0)\n",
    "n_noise = list(labels).count(-1)\n",
    "\n",
    "count_cluster_labels = []\n",
    "unique, counts = np.unique(labels, return_counts=True)\n",
    "for u, c in zip(unique, counts):\n",
    "    print('label ' + str(u) + ': ' + str(c))\n",
    "    count_cluster_labels.append(dict({'label': u, 'counts': c}))\n",
    "    \n",
    "df_labeled = "
   ]
  },
  {
   "cell_type": "code",
   "execution_count": null,
   "id": "4dd4e531",
   "metadata": {},
   "outputs": [],
   "source": [
    "\n",
    "df_db_result = pd.DataFrame(X_db_fit_pca)\n",
    "df_db_result['label'] = pd.Series(db_labels, name='label')\n",
    "df_read['label'] = pd.Series(db_labels, name='label')\n",
    "df_db_result['id'] = df_read['id']\n",
    "df_remove_noise = df_db_result.loc[df_db_result['label'] > -1]\n"
   ]
  },
  {
   "cell_type": "code",
   "execution_count": null,
   "id": "b6c0bef8",
   "metadata": {},
   "outputs": [],
   "source": [
    "model.cluster_centers_"
   ]
  }
 ],
 "metadata": {
  "kernelspec": {
   "display_name": "Python 3",
   "language": "python",
   "name": "python3"
  },
  "language_info": {
   "codemirror_mode": {
    "name": "ipython",
    "version": 3
   },
   "file_extension": ".py",
   "mimetype": "text/x-python",
   "name": "python",
   "nbconvert_exporter": "python",
   "pygments_lexer": "ipython3",
   "version": "3.8.5"
  }
 },
 "nbformat": 4,
 "nbformat_minor": 5
}
