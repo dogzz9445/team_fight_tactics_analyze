{
 "cells": [
  {
   "cell_type": "code",
   "execution_count": 8,
   "id": "05eba5c4",
   "metadata": {},
   "outputs": [],
   "source": [
    "from riotwatcher import TftWatcher, ApiError\n",
    "import secret\n",
    "\n",
    "tft_watcher = TftWatcher(api_key=secret.RIOT_API_KEY)"
   ]
  },
  {
   "cell_type": "code",
   "execution_count": 9,
   "id": "ed63b724",
   "metadata": {},
   "outputs": [
    {
     "name": "stdout",
     "output_type": "stream",
     "text": [
      "{'id': 'UO2UGMDBft1cv6VVXU3Jad3eWZ6kxeygApwCE29RO1RHaA', 'accountId': 'GAItMBFDMESQx00F6T8ypKo5lD-e2gQX72PppAm2gMY', 'puuid': 'R47bYHx6mkDqNSVTjXLPYY6SgGjTYEgcNmxXNP9A-aqr4zTkD23Ot1UkJ3BVV60u93_9JjbsuDxdaQ', 'name': '떵 민', 'profileIconId': 984, 'revisionDate': 1611955191000, 'summonerLevel': 106}\n"
     ]
    }
   ],
   "source": [
    "my_region = 'KR'\n",
    "\n",
    "me = lol_watcher.summoner.by_name(my_region, '떵민')\n",
    "print(me)"
   ]
  }
 ],
 "metadata": {
  "kernelspec": {
   "display_name": "Python 3",
   "language": "python",
   "name": "python3"
  },
  "language_info": {
   "codemirror_mode": {
    "name": "ipython",
    "version": 3
   },
   "file_extension": ".py",
   "mimetype": "text/x-python",
   "name": "python",
   "nbconvert_exporter": "python",
   "pygments_lexer": "ipython3",
   "version": "3.9.1"
  }
 },
 "nbformat": 4,
 "nbformat_minor": 5
}
